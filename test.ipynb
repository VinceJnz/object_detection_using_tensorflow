{
 "cells": [
  {
   "cell_type": "code",
   "execution_count": 1,
   "id": "03a56d25",
   "metadata": {},
   "outputs": [],
   "source": [
    "import os as os"
   ]
  },
  {
   "cell_type": "code",
   "execution_count": 29,
   "id": "8b9b9d68",
   "metadata": {},
   "outputs": [
    {
     "name": "stdout",
     "output_type": "stream",
     "text": [
      "D:/Users/Vince/Downloads/mxnet/source/mxnet 1.9.1/3/mxnet/python/mxnet\n"
     ]
    }
   ],
   "source": [
    "#path = os.path.expanduser(__file__)\n",
    "path = os.path.expanduser('D:/Users/Vince/Downloads/mxnet/source/mxnet 1.9.1/3/mxnet/python/mxnet')\n",
    "print(path)"
   ]
  },
  {
   "cell_type": "code",
   "execution_count": 30,
   "id": "da26f694",
   "metadata": {},
   "outputs": [
    {
     "name": "stdout",
     "output_type": "stream",
     "text": [
      "D:\\Users\\Vince\\Downloads\\mxnet\\source\\mxnet 1.9.1\\3\\mxnet\\python\\mxnet\n"
     ]
    }
   ],
   "source": [
    "abs_path = os.path.abspath(path)\n",
    "print(abs_path)"
   ]
  },
  {
   "cell_type": "code",
   "execution_count": 31,
   "id": "d8b710a8",
   "metadata": {},
   "outputs": [
    {
     "name": "stdout",
     "output_type": "stream",
     "text": [
      "D:\\Users\\Vince\\Downloads\\mxnet\\source\\mxnet 1.9.1\\3\\mxnet\\python\n"
     ]
    }
   ],
   "source": [
    "curr_path = os.path.dirname(abs_path)\n",
    "print(curr_path)"
   ]
  },
  {
   "cell_type": "code",
   "execution_count": 32,
   "id": "d4750f93",
   "metadata": {},
   "outputs": [
    {
     "name": "stdout",
     "output_type": "stream",
     "text": [
      "D:\\Users\\Vince\\Downloads\\mxnet\\source\\mxnet 1.9.1\\3\\mxnet\\python\\../../lib/\n"
     ]
    }
   ],
   "source": [
    "api_path = os.path.join(curr_path, '../../lib/')\n",
    "print(api_path)"
   ]
  },
  {
   "cell_type": "code",
   "execution_count": 36,
   "id": "5bc1f9c7",
   "metadata": {},
   "outputs": [
    {
     "name": "stdout",
     "output_type": "stream",
     "text": [
      "D:\\Users\\Vince\\Downloads\\mxnet\\source\\mxnet 1.9.1\\3\\mxnet\\python\\../../build/\n"
     ]
    }
   ],
   "source": [
    "cmake_build_path = os.path.join(curr_path, '../../build/')\n",
    "print(cmake_build_path)"
   ]
  },
  {
   "cell_type": "code",
   "execution_count": 37,
   "id": "fd49f1ec",
   "metadata": {},
   "outputs": [
    {
     "name": "stdout",
     "output_type": "stream",
     "text": [
      "['D:\\\\Users\\\\Vince\\\\Downloads\\\\mxnet\\\\source\\\\mxnet 1.9.1\\\\3\\\\mxnet\\\\python', 'D:\\\\Users\\\\Vince\\\\Downloads\\\\mxnet\\\\source\\\\mxnet 1.9.1\\\\3\\\\mxnet\\\\python\\\\../../lib/', 'D:\\\\Users\\\\Vince\\\\Downloads\\\\mxnet\\\\source\\\\mxnet 1.9.1\\\\3\\\\mxnet\\\\python\\\\../../build/']\n"
     ]
    }
   ],
   "source": [
    "dll_path = [curr_path, api_path, cmake_build_path]\n",
    "print(dll_path)"
   ]
  },
  {
   "cell_type": "code",
   "execution_count": 34,
   "id": "d9e26713",
   "metadata": {},
   "outputs": [],
   "source": [
    "#dir_list = os.listdir(api_path)\n",
    "dir_list = os.listdir(curr_path)"
   ]
  },
  {
   "cell_type": "code",
   "execution_count": 35,
   "id": "9dca4f21",
   "metadata": {},
   "outputs": [
    {
     "data": {
      "text/plain": [
       "['.DS_Store', 'mxnet', 'README.md', 'setup - Copy.py', 'setup.py']"
      ]
     },
     "execution_count": 35,
     "metadata": {},
     "output_type": "execute_result"
    }
   ],
   "source": [
    "dir_list"
   ]
  }
 ],
 "metadata": {
  "kernelspec": {
   "display_name": "Python 3 (ipykernel)",
   "language": "python",
   "name": "python3"
  },
  "language_info": {
   "codemirror_mode": {
    "name": "ipython",
    "version": 3
   },
   "file_extension": ".py",
   "mimetype": "text/x-python",
   "name": "python",
   "nbconvert_exporter": "python",
   "pygments_lexer": "ipython3",
   "version": "3.8.10"
  }
 },
 "nbformat": 4,
 "nbformat_minor": 5
}
